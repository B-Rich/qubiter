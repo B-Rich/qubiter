{
 "cells": [
  {
   "cell_type": "markdown",
   "metadata": {
    "collapsed": false
   },
   "source": [
    "# Quantum Phase Estimation, Iterative\n",
    "\n",
    "To economize in qubits, the References below advocate\n",
    "using the so called iterative Quantum Phase Estimation (iterative qPE).\n",
    "Whereas the usual qPE uses multiple pointer qubits and gives the\n",
    "answer in one shot (passage through a single circuit), the iterative \n",
    "qPE uses only a single pointer qubit but requires\n",
    "passage through multiple circuits, with the parameters\n",
    "of each circuit depending on the final pointer measurement of the previous circuit.\n",
    "This works because the kickback phases which each power of U\n",
    "sends to the pointers in the nomal qPE are cummulative: the k'th\n",
    "pointer gets a\n",
    "kickback phase which includes the \n",
    "kickback phases accrued by all previous pointer qubits.\n",
    "\n",
    "In this example, we use \n",
    "\n",
    "$U = e^{i*rads*\\sigma_Z}$\n",
    "\n",
    "for some Real number $rads$ \n",
    "and we use initial state $|0\\rangle$, so $e^{i*rads}$ is the \n",
    "eigenvalue we seek.\n",
    "\n",
    "Here are some of the equations used in the code below\n",
    "        \n",
    "``` \n",
    "for  k in range(num_reps):\n",
    "\n",
    "    |           H \n",
    "    |           exp(i*alpha(k)*sigz)\n",
    "    U^(2^k)-----@   \n",
    "    |           H \n",
    "    |           measure n(k) here\n",
    "```\n",
    "\n",
    "$\\alpha(0) = n(0) =0$\n",
    "\n",
    "$\\alpha(k+1) = 2\\alpha(k) + \\frac{\\pi}{2} n(k)$\n",
    "\n",
    "$\\alpha(k) =   2^{k-2}\\pi\\sum_{b=0}^{k} \\frac{n(b)}{2^{b}}$\n",
    "\n",
    "$rads = \\frac{\\alpha(num\\_reps-1)}{2^{num\\_reps-2}}$\n",
    "\n",
    "\n",
    "References\n",
    "----------\n",
    "\n",
    "1. https://arxiv.org/abs/1512.06860 by Google team\n",
    "\n",
    "2. https://arxiv.org/abs/1605.03590 by Microsoft team\n",
    "\n"
   ]
  },
  {
   "cell_type": "code",
   "execution_count": null,
   "metadata": {
    "collapsed": true
   },
   "outputs": [],
   "source": [
    "from SEO_writer import *\n",
    "from SEO_simulator import *\n",
    "import numpy as np"
   ]
  },
  {
   "cell_type": "code",
   "execution_count": null,
   "metadata": {
    "collapsed": false
   },
   "outputs": [],
   "source": [
    "rads = 2*np.pi*(1/16 + 1/8 + 1e-8)\n",
    "z_axis = 3\n",
    "num_bits = 2\n",
    "num_reps = 15\n",
    "file_prefix = 'io_folder/ph_est_iterative'\n",
    "\n",
    "emb = CktEmbedder(num_bits, num_bits)\n",
    "\n",
    "alpha = 0\n",
    "ptr_state = 0\n",
    "ptr_st_list = []\n",
    "for k in range(num_reps):\n",
    "    print('--------k=', k)\n",
    "    # refresh angle alpha to twice its previous value plus\n",
    "    # 2\\pi times latest measurement of pointer qubit\n",
    "    alpha = 2*alpha + np.pi*ptr_state/2\n",
    "    print('rads, alpha/2^(num_reps)=', rads, alpha/(1 << num_reps-2))\n",
    "\n",
    "    wr = SEO_writer(file_prefix, emb)\n",
    "\n",
    "    # write circuit\n",
    "    wr.write_one_bit_gate(0, OneBitGates.had2)\n",
    "\n",
    "    wr.write_one_bit_gate(0, OneBitGates.rot_ax, [alpha, z_axis])\n",
    "\n",
    "    control_pos = 0\n",
    "    target_pos = 1\n",
    "    trols = Controls.new_knob(num_bits, control_pos, kind=True)\n",
    "    wr.write_controlled_one_bit_gate(\n",
    "        target_pos, trols, OneBitGates.rot_ax, [(1 << k)*rads, z_axis])\n",
    "\n",
    "    wr.write_one_bit_gate(0, OneBitGates.had2)\n",
    "    wr.close_files()\n",
    "\n",
    "    # simulate circuit\n",
    "    init_st_vec = SEO_simulator.get_standard_basis_st([0, 0])\n",
    "    sim = SEO_simulator(file_prefix, num_bits, init_st_vec)\n",
    "    sim.describe_fin_st(print_st_vec=True, do_pp=True, omit_zero_amps=True)\n",
    "\n",
    "    # find final state of pointer qubit\n",
    "    fin_st_vec = sim.cur_st_vec_list[0]\n",
    "    # dictionary with key=qubit, value=final (P(0), P(1))\n",
    "    bit_to_probs = sim.get_bit_probs(fin_st_vec)\n",
    "    p0, p1 = bit_to_probs[0]\n",
    "    if p0 > p1:\n",
    "        ptr_state = 0\n",
    "    else:\n",
    "        ptr_state = 1\n",
    "    ptr_st_list.append(ptr_state)\n",
    "    print('ptr_state=', ptr_state)\n",
    "print('---------------------')\n",
    "print('timeline of bit 0 measurements', ptr_st_list)\n",
    "print(\"rads, alpha(num_reps-1)/2^(num_reps-2)\", rads, alpha/(1 << num_reps-2))\n"
   ]
  },
  {
   "cell_type": "code",
   "execution_count": null,
   "metadata": {
    "collapsed": true
   },
   "outputs": [],
   "source": []
  },
  {
   "cell_type": "code",
   "execution_count": null,
   "metadata": {
    "collapsed": true
   },
   "outputs": [],
   "source": []
  }
 ],
 "metadata": {
  "kernelspec": {
   "display_name": "Apache Spark (Anaconda Python 3)",
   "language": "python",
   "name": "spark-anaconda"
  },
  "language_info": {
   "codemirror_mode": {
    "name": "ipython",
    "version": 3
   },
   "file_extension": ".py",
   "mimetype": "text/x-python",
   "name": "python",
   "nbconvert_exporter": "python",
   "pygments_lexer": "ipython3",
   "version": "3.5.2"
  }
 },
 "nbformat": 4,
 "nbformat_minor": 0
}
