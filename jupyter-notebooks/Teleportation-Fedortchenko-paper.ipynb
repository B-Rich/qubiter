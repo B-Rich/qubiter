{
 "cells": [
  {
   "cell_type": "markdown",
   "metadata": {
    "collapsed": false
   },
   "source": [
    "## Teleportation experiment from paper by Fedortchenko\n",
    "\n",
    "This notebook uses Qubiter to illustrate a pedagogical Teleportation \n",
    "experiment performed by S. Fedortchencko on IBM Quantum Experience, \n",
    "and described by him in the paper\n",
    "\n",
    "https://arxiv.org/abs/1607.02398"
   ]
  },
  {
   "cell_type": "code",
   "execution_count": 1,
   "metadata": {
    "collapsed": true
   },
   "outputs": [],
   "source": [
    "from SEO_writer import *\n",
    "from SEO_simulator import *\n",
    "import numpy as np"
   ]
  },
  {
   "cell_type": "markdown",
   "metadata": {},
   "source": [
    "Number of qubits is 3.\n",
    "Note that we use \"bit\" for both qbits and cbits"
   ]
  },
  {
   "cell_type": "code",
   "execution_count": 2,
   "metadata": {
    "collapsed": true
   },
   "outputs": [],
   "source": [
    "num_bits = 3"
   ]
  },
  {
   "cell_type": "markdown",
   "metadata": {},
   "source": [
    "Use a trivial circuit embedder that embeds 3 qubits into same 3 qubits"
   ]
  },
  {
   "cell_type": "code",
   "execution_count": 3,
   "metadata": {
    "collapsed": false
   },
   "outputs": [],
   "source": [
    "emb = CktEmbedder(num_bits, num_bits)"
   ]
  },
  {
   "cell_type": "markdown",
   "metadata": {},
   "source": [
    "Open a writer, tell it where to write to.\n",
    "We will use zero bit last (ZL) convention"
   ]
  },
  {
   "cell_type": "code",
   "execution_count": 4,
   "metadata": {
    "collapsed": false
   },
   "outputs": [],
   "source": [
    "file_prefix = 'io_folder/teleportation-fedor'\n",
    "wr = SEO_writer(file_prefix, emb)"
   ]
  },
  {
   "cell_type": "markdown",
   "metadata": {},
   "source": [
    "Write patial circuit that creates\n",
    "a state at qbit 0 that will be teleported to qbit 3."
   ]
  },
  {
   "cell_type": "code",
   "execution_count": 5,
   "metadata": {
    "collapsed": false
   },
   "outputs": [
    {
     "name": "stdout",
     "output_type": "stream",
     "text": [
      "Number of lines in file = 4\n",
      "\n",
      "Number of Elem. Ops = 4\n",
      "\n",
      "final state vector\n",
      "[[[ 0.65328148-0.65328148j  0.00000000+0.j        ]\n",
      "  [ 0.00000000+0.j          0.00000000+0.j        ]]\n",
      "\n",
      " [[ 0.27059805-0.27059805j  0.00000000+0.j        ]\n",
      "  [ 0.00000000+0.j          0.00000000+0.j        ]]]\n",
      "total probability of final state vector (=one if no measurements)= 1.0\n",
      "dictionary with key=qubit, value=final (P(0), P(1))\n",
      "{0: (0.85355339059327373, 0.14644660940672627), 1: (1.0, 0.0), 2: (1.0, 0.0)}\n"
     ]
    }
   ],
   "source": [
    "z_axis = 3\n",
    "def init_ckt():\n",
    "    wr.write_one_bit_gate(0, OneBitGates.had2)  # H(0)\n",
    "    wr.write_one_bit_gate(0, OneBitGates.rot_ax, [-np.pi/8, z_axis])  # T(0)\n",
    "    wr.write_one_bit_gate(0, OneBitGates.had2)  # H(0)\n",
    "    wr.write_one_bit_gate(0, OneBitGates.rot_ax, [-np.pi/4, z_axis])  # S(0)\n",
    "init_ckt()\n",
    "wr.close_files()\n",
    "\n",
    "init_st_vec = SEO_simulator.get_standard_basis_st([0, 0, 0])\n",
    "sim = SEO_simulator(file_prefix, num_bits, init_st_vec)\n",
    "sim.describe_fin_st(print_st_vec=True)"
   ]
  },
  {
   "cell_type": "markdown",
   "metadata": {},
   "source": [
    "Now run the whole circuit.\n",
    "If you want to see the state vector after only first n gates,\n",
    "where n is less than total number of gates, just\n",
    "comment out all gates from n+1 to the final one. You can comment\n",
    "multiple lines with control-slash applied to a selected block. \n",
    "control-slash also uncomments a selected, commented block."
   ]
  },
  {
   "cell_type": "code",
   "execution_count": 6,
   "metadata": {
    "collapsed": false
   },
   "outputs": [
    {
     "name": "stdout",
     "output_type": "stream",
     "text": [
      "Number of lines in file = 10\n",
      "\n",
      "Number of Elem. Ops = 10\n",
      "\n",
      "final state vector\n",
      "[[[ 0.32664074-0.32664074j  0.13529903-0.13529903j]\n",
      "  [ 0.00000000+0.j          0.00000000+0.j        ]]\n",
      "\n",
      " [[ 0.00000000+0.j          0.00000000+0.j        ]\n",
      "  [ 0.00000000+0.j          0.00000000+0.j        ]]]\n",
      "total probability of final state vector (=one if no measurements)= 0.25\n",
      "dictionary with key=qubit, value=final (P(0), P(1))\n",
      "{0: (1.0, 0.0), 1: (1.0, 0.0), 2: (0.85355339059327384, 0.14644660940672616)}\n"
     ]
    }
   ],
   "source": [
    "wr = SEO_writer(file_prefix, emb)\n",
    "init_ckt()\n",
    "wr.write_one_bit_gate(2, OneBitGates.had2)  # H(2)\n",
    "\n",
    "control_pos = 2\n",
    "target_pos = 1\n",
    "trols = Controls.new_knob(num_bits, control_pos, kind=True)\n",
    "wr.write_controlled_one_bit_gate(target_pos, trols, OneBitGates.sigx)\n",
    "\n",
    "control_pos = 0\n",
    "target_pos = 1\n",
    "trols = Controls.new_knob(num_bits, control_pos, kind=True)\n",
    "wr.write_controlled_one_bit_gate(target_pos, trols, OneBitGates.sigx)\n",
    "\n",
    "wr.write_one_bit_gate(0, OneBitGates.had2)  # H(0)\n",
    "\n",
    "wr.write_measurement(tar_bit_pos=0, kind=0)\n",
    "wr.write_measurement(tar_bit_pos=1, kind=0)\n",
    "wr.close_files()\n",
    "\n",
    "init_st_vec = SEO_simulator.get_standard_basis_st([0, 0, 0])\n",
    "sim = SEO_simulator(file_prefix, num_bits, init_st_vec)\n",
    "sim.describe_fin_st(print_st_vec=True)\n"
   ]
  },
  {
   "cell_type": "markdown",
   "metadata": {},
   "source": [
    "Look in files\n",
    "* ```io_folder/teleportation-fedor_3_eng.txt```\n",
    "* ```io_folder/teleportation-fedor_3_ZLpic.txt```\n",
    "\n",
    "to see the quantum circuit that was generated"
   ]
  },
  {
   "cell_type": "markdown",
   "metadata": {
    "collapsed": true
   },
   "source": [
    "If you do the algebra, the final state vector should be\n",
    "$$ \n",
    "\\begin{array}{c}|0\\rangle \\\\ |0\\rangle \\\\ (\\frac{cc}{2} |0\\rangle + \\frac{ss}{2}|1\\rangle)\\end{array}\n",
    "+\n",
    "\\begin{array}{c}|0\\rangle \\\\ |1\\rangle \\\\ (\\frac{cc}{2} |0\\rangle + \\frac{ss}{2}|1\\rangle)\\end{array}\n",
    "+\n",
    "\\begin{array}{c}|1\\rangle \\\\ |0\\rangle \\\\ (\\frac{cc}{2} |0\\rangle - \\frac{ss}{2}|1\\rangle)\\end{array}\n",
    "+\n",
    "\\begin{array}{c}|1\\rangle \\\\ |1\\rangle \\\\ (\\frac{-ss}{2} |0\\rangle + \\frac{cc}{2}|1\\rangle)\\end{array}\n",
    "$$\n",
    "\n",
    "where cc = cos(\\pi/8) and ss = sin(\\pi/8), and where the \n",
    "first, second,\n",
    "third\n",
    "row corresponds to qubit 0, 1, 2"
   ]
  },
  {
   "cell_type": "code",
   "execution_count": null,
   "metadata": {
    "collapsed": true
   },
   "outputs": [],
   "source": []
  }
 ],
 "metadata": {
  "kernelspec": {
   "display_name": "Anaconda (Python 3)",
   "language": "python",
   "name": "anaconda3"
  },
  "language_info": {
   "codemirror_mode": {
    "name": "ipython",
    "version": 3
   },
   "file_extension": ".py",
   "mimetype": "text/x-python",
   "name": "python",
   "nbconvert_exporter": "python",
   "pygments_lexer": "ipython3",
   "version": "3.5.2"
  }
 },
 "nbformat": 4,
 "nbformat_minor": 0
}
