{
 "cells": [
  {
   "cell_type": "markdown",
   "metadata": {},
   "source": [
    "## Hello World, IBM Quantum Experience\n",
    "This notebook is meant to illustrate how to use Qubiter to simulate ( i.e., \n",
    "predict) the outcome of an IBM Quantum Experience experiment\n",
    "\n",
    "$\\newcommand{\\bra}[1]{\\left\\langle{#1}\\right|}$\n",
    "$\\newcommand{\\ket}[1]{\\left|{#1}\\right\\rangle}$"
   ]
  },
  {
   "cell_type": "markdown",
   "metadata": {},
   "source": [
    "test: $\\bra{\\psi}M\\ket{\\phi}$"
   ]
  },
  {
   "cell_type": "code",
   "execution_count": 1,
   "metadata": {
    "collapsed": false
   },
   "outputs": [],
   "source": [
    "from SEO_writer import *\n",
    "from SEO_simulator import *\n",
    "import numpy as np"
   ]
  },
  {
   "cell_type": "markdown",
   "metadata": {},
   "source": [
    "Number of qubits is 5.\n",
    "Note that we use \"bit\" for both qbits and cbits."
   ]
  },
  {
   "cell_type": "code",
   "execution_count": 2,
   "metadata": {
    "collapsed": true
   },
   "outputs": [],
   "source": [
    "num_bits = 5"
   ]
  },
  {
   "cell_type": "markdown",
   "metadata": {},
   "source": [
    "Use a trivial circuit embedder that embeds 5 qubits into same 5 qubits."
   ]
  },
  {
   "cell_type": "code",
   "execution_count": 3,
   "metadata": {
    "collapsed": true
   },
   "outputs": [],
   "source": [
    "emb = CktEmbedder(num_bits, num_bits)"
   ]
  },
  {
   "cell_type": "markdown",
   "metadata": {},
   "source": [
    "Open a writer, tell it where to write to.\n",
    "We will use zero bit last (ZL) convention."
   ]
  },
  {
   "cell_type": "code",
   "execution_count": 4,
   "metadata": {
    "collapsed": true
   },
   "outputs": [],
   "source": [
    "file_prefix = 'io_folder/ibm_qe_test'\n",
    "wr = SEO_writer(file_prefix, emb)"
   ]
  },
  {
   "cell_type": "markdown",
   "metadata": {},
   "source": [
    "Write Pauli matrices sigx, sigy, sigz at position 2."
   ]
  },
  {
   "cell_type": "code",
   "execution_count": 5,
   "metadata": {
    "collapsed": true
   },
   "outputs": [],
   "source": [
    "wr.write_one_bit_gate(2, OneBitGates.sigx)\n",
    "wr.write_one_bit_gate(2, OneBitGates.sigy)\n",
    "wr.write_one_bit_gate(2, OneBitGates.sigz)"
   ]
  },
  {
   "cell_type": "markdown",
   "metadata": {},
   "source": [
    "Write 1 qubit Hadamard matrix at position 3."
   ]
  },
  {
   "cell_type": "code",
   "execution_count": 6,
   "metadata": {
    "collapsed": true
   },
   "outputs": [],
   "source": [
    "wr.write_one_bit_gate(3, OneBitGates.had2)"
   ]
  },
  {
   "cell_type": "markdown",
   "metadata": {},
   "source": [
    "Definitions of S, T\n",
    "\n",
    "$S = diag[1, i] = e^{i\\pi/4} diag[e^{-i\\pi/4}, e^{i\\pi/4}]= e^{i\\pi/4}e^{-i \\pi/4sigz}$\n",
    "\n",
    "$S^\\dagger = e^{-i\\pi/4}e^{+i\\pi/4 sigz}$\n",
    "\n",
    "$T = \\sqrt{S}= diag[1, e^{i\\pi/4}] = e^{i\\pi/8}e^{-i\\pi/8sigz}$\n",
    "\n",
    "$T^\\dagger = e^{-i\\pi/8}e^{+i\\pi/8 sigz}$\n",
    "\n",
    "Write $S, S^\\dagger, T, T^\\dagger$ at position=2, up to a global phase factor\n"
   ]
  },
  {
   "cell_type": "code",
   "execution_count": 7,
   "metadata": {
    "collapsed": true
   },
   "outputs": [],
   "source": [
    "z_axis = 3\n",
    "wr.write_one_bit_gate(2, OneBitGates.rot_ax, [-np.pi/4, z_axis])  # S(2)\n",
    "wr.write_one_bit_gate(2, OneBitGates.rot_ax, [ np.pi/4, z_axis])  # S^\\dagger(2)\n",
    "wr.write_one_bit_gate(2, OneBitGates.rot_ax, [-np.pi/8, z_axis])  # T(2)\n",
    "wr.write_one_bit_gate(2, OneBitGates.rot_ax, [ np.pi/8, z_axis])  # T^\\dagger(2)"
   ]
  },
  {
   "cell_type": "markdown",
   "metadata": {},
   "source": [
    "Write $CNOT = sigx(target\\_pos)^{n(control\\_pos)}$"
   ]
  },
  {
   "cell_type": "code",
   "execution_count": 8,
   "metadata": {
    "collapsed": true
   },
   "outputs": [],
   "source": [
    "control_pos = 3\n",
    "target_pos = 0\n",
    "trols = Controls.new_knob(num_bits, control_pos, kind=True)\n",
    "wr.write_controlled_one_bit_gate(\n",
    "    target_pos, trols, OneBitGates.sigx)"
   ]
  },
  {
   "cell_type": "markdown",
   "metadata": {},
   "source": [
    "Close English and Picture files"
   ]
  },
  {
   "cell_type": "code",
   "execution_count": 9,
   "metadata": {
    "collapsed": true
   },
   "outputs": [],
   "source": [
    "wr.close_files()"
   ]
  },
  {
   "cell_type": "markdown",
   "metadata": {},
   "source": [
    "Look in files\n",
    "\n",
    "* [io_folder/ibm_qe_test_5_eng.txt](io_folder/ibm_qe_test_5_eng.txt)\n",
    "* [io_folder/ibm_qe_test_5_ZLpic.txt](io_folder/ibm_qe_test_5_ZLpic.txt)\n",
    "\n",
    "to see the quantum circuit that was generated"
   ]
  },
  {
   "cell_type": "markdown",
   "metadata": {},
   "source": [
    "Specify initial state vector for simulation. This example corresponds to $\\ket{0}\\ket{0}\\ket{1}\\ket{1}\\ket{0}$. In ZL convention, last ket corresponds to bit 0."
   ]
  },
  {
   "cell_type": "code",
   "execution_count": 10,
   "metadata": {
    "collapsed": true
   },
   "outputs": [],
   "source": [
    "init_st_vec = SEO_simulator.get_standard_basis_st([0, 0, 1, 1, 0])"
   ]
  },
  {
   "cell_type": "markdown",
   "metadata": {},
   "source": [
    "Open a simulator. This automatically\n",
    "multiplies quantum circuit in given file."
   ]
  },
  {
   "cell_type": "code",
   "execution_count": 11,
   "metadata": {
    "collapsed": false
   },
   "outputs": [
    {
     "name": "stdout",
     "output_type": "stream",
     "text": [
      "Number of lines in file = 9\n",
      "\n",
      "Number of Elem. Ops = 9\n",
      "\n"
     ]
    }
   ],
   "source": [
    "sim = SEO_simulator(file_prefix, num_bits, init_st_vec)"
   ]
  },
  {
   "cell_type": "markdown",
   "metadata": {},
   "source": [
    "Print description of final state vector"
   ]
  },
  {
   "cell_type": "code",
   "execution_count": 12,
   "metadata": {
    "collapsed": false
   },
   "outputs": [
    {
     "name": "stdout",
     "output_type": "stream",
     "text": [
      "total probability of final state vector (=one if no measurements)= 1.0\n",
      "dictionary with key=qubit, value=final (P(0), P(1))\n",
      "{0: (0.5, 0.5), 1: (0.0, 1.0), 2: (0.0, 1.0), 3: (0.5, 0.5), 4: (1.0, 0.0)}\n"
     ]
    }
   ],
   "source": [
    "sim.describe_fin_st(print_st_vec=False)"
   ]
  },
  {
   "cell_type": "code",
   "execution_count": null,
   "metadata": {
    "collapsed": true
   },
   "outputs": [],
   "source": []
  }
 ],
 "metadata": {
  "kernelspec": {
   "display_name": "Anaconda (Python 3)",
   "language": "python",
   "name": "anaconda3"
  },
  "language_info": {
   "codemirror_mode": {
    "name": "ipython",
    "version": 3
   },
   "file_extension": ".py",
   "mimetype": "text/x-python",
   "name": "python",
   "nbconvert_exporter": "python",
   "pygments_lexer": "ipython3",
   "version": "3.5.2"
  }
 },
 "nbformat": 4,
 "nbformat_minor": 0
}
