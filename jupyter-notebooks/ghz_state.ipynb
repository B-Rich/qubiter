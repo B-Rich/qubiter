{
 "cells": [
  {
   "cell_type": "markdown",
   "metadata": {},
   "source": [
    "# GHZ state\n",
    "\n",
    "The purpose of this notebook is to simulate the GHZ experiment\n",
    "described in the IBM Quantum Experience tutorial in the section\n",
    "entitled \n",
    "\n",
    "    Multiple Qubits, Gates, and Entangled States/GHZ states\n",
    "    \n",
    "If you understand our \"Bell_and_CHSH_inequalities\" notebook,\n",
    "this notebook uses very similar math.\n",
    "\n",
    "It uses the following results whose proofs use techniques already covered \n",
    "in our \"Bell_and_CHSH_inequalities\" notebook\n",
    "\n",
    "$\\langle b_X| = \\langle b_Z| H$\n",
    "\n",
    "$\\langle b_Y| = \\langle b_Z| H S^\\dagger$\n",
    "\n",
    "for $b=0, 1$.\n",
    "\n",
    "$\\langle\\psi| \\sigma_A(0) \\sigma_B(1) \\sigma(2)|\\psi\\rangle = \\sum_{b_0 + b_1 + b_2 = 0, 2} Prob(b_0, b_1, b_2) - \\sum_{b_0 + b_1 + b_2 = 1, 3} Prob(b_0, b_1, b_2)$"
   ]
  },
  {
   "cell_type": "code",
   "execution_count": 1,
   "metadata": {
    "collapsed": true
   },
   "outputs": [],
   "source": [
    "from SEO_writer import *\n",
    "from SEO_simulator import *\n",
    "import numpy as np"
   ]
  },
  {
   "cell_type": "code",
   "execution_count": 2,
   "metadata": {
    "collapsed": false
   },
   "outputs": [],
   "source": [
    "def write_ghz_plus(file_prefix, ghz_only=True, meas=None):\n",
    "    num_bits = 3\n",
    "    z_axis = 3\n",
    "    emb = CktEmbedder(num_bits, num_bits)\n",
    "    print('-------------------', file_prefix)\n",
    "    wr = SEO_writer(file_prefix, emb)\n",
    "    wr.write_one_bit_gate(0, OneBitGates.had2)\n",
    "    wr.write_one_bit_gate(1, OneBitGates.had2)\n",
    "    wr.write_one_bit_gate(2, OneBitGates.sigx)\n",
    "\n",
    "    control_pos = 0\n",
    "    target_pos = 2\n",
    "    trols = Controls.new_knob(num_bits, control_pos, kind=True)\n",
    "    wr.write_controlled_one_bit_gate(\n",
    "        target_pos, trols, OneBitGates.sigx)\n",
    "\n",
    "    control_pos = 1\n",
    "    target_pos = 2\n",
    "    trols = Controls.new_knob(num_bits, control_pos, kind=True)\n",
    "    wr.write_controlled_one_bit_gate(\n",
    "        target_pos, trols, OneBitGates.sigx)\n",
    "\n",
    "    wr.write_one_bit_gate(0, OneBitGates.had2)\n",
    "    wr.write_one_bit_gate(1, OneBitGates.had2)\n",
    "    wr.write_one_bit_gate(2, OneBitGates.had2)\n",
    "\n",
    "    if not ghz_only:\n",
    "        for pos in range(3):\n",
    "            m = meas[pos]\n",
    "            if m == 1:\n",
    "                wr.write_one_bit_gate(pos, OneBitGates.had2)\n",
    "            elif m == 2:\n",
    "                wr.write_one_bit_gate(pos,\n",
    "                    OneBitGates.rot_ax, [np.pi/4, z_axis])  # S^\\dagger(pos)\n",
    "                wr.write_one_bit_gate(pos, OneBitGates.had2)\n",
    "            else:\n",
    "                assert False\n",
    "    wr.close_files()\n",
    "    pic_file = file_prefix + '_' + str(num_bits) + '_ZLpic.txt'\n",
    "    with open(pic_file) as f:\n",
    "        print(f.read())\n",
    "    init_st_vec = SEO_simulator.get_standard_basis_st([0, 0, 0])\n",
    "    sim = SEO_simulator(file_prefix, num_bits, init_st_vec)\n",
    "    sim.describe_fin_st(print_st_vec=True, do_pp=True,\n",
    "                        omit_zero_amps=True)\n",
    "    fin_st_vec = sim.cur_st_vec_list[0]\n",
    "    print('Prob(bit0=i, bit1=j, bit2=k) for i,j,k,=0,1:')\n",
    "    prob_arr = np.abs(fin_st_vec)**2\n",
    "    print(prob_arr)\n",
    "    mean = prob_arr[0, 0, 0]  \\\n",
    "            + prob_arr[0, 1, 1] \\\n",
    "            + prob_arr[1, 0, 1] \\\n",
    "            + prob_arr[1, 1, 0] \\\n",
    "            - prob_arr[1, 1, 1] \\\n",
    "            - prob_arr[0, 0, 1] \\\n",
    "            - prob_arr[1, 0, 0] \\\n",
    "            - prob_arr[0, 1, 0]\n",
    "    print('mean=', mean)\n",
    "    return mean\n"
   ]
  },
  {
   "cell_type": "code",
   "execution_count": 3,
   "metadata": {
    "collapsed": false
   },
   "outputs": [
    {
     "name": "stdout",
     "output_type": "stream",
     "text": [
      "------------------- io_folder/ghz_zzz_meas\n",
      "|   |   H   \n",
      "|   H   |   \n",
      "X   |   |   \n",
      "X---+---@   \n",
      "X---@   |   \n",
      "|   |   H   \n",
      "|   H   |   \n",
      "H   |   |   \n",
      "\n",
      "Number of lines in file = 8\n",
      "\n",
      "Number of Elem. Ops = 8\n",
      "\n",
      "final state vector\n",
      "(zero bit first in state tuple)\n",
      "(0, 0, 0) (0.707106781187+0j)\n",
      "(1, 1, 1) (-0.707106781187+0j)\n",
      "total probability of final state vector (=one if no measurements)= 1.0\n",
      "dictionary with key=qubit, value=final (P(0), P(1))\n",
      "{0: (0.5, 0.5), 1: (0.5, 0.5), 2: (0.5, 0.5)}\n",
      "Prob(bit0=i, bit1=j, bit2=k) for i,j,k,=0,1:\n",
      "[[[  5.00000000e-01   4.53552674e-35]\n",
      "  [  1.93646401e-37   1.84432228e-70]]\n",
      "\n",
      " [[  1.84432228e-70   1.93646401e-37]\n",
      "  [  4.53552674e-35   5.00000000e-01]]]\n",
      "mean= -4.55489137516e-35\n"
     ]
    }
   ],
   "source": [
    "# sigz(0)sigz(1)sigz(2) measurement\n",
    "file_prefix = 'io_folder/ghz_zzz_meas'\n",
    "mean_zzz = write_ghz_plus(file_prefix, ghz_only=True)"
   ]
  },
  {
   "cell_type": "code",
   "execution_count": 4,
   "metadata": {
    "collapsed": false
   },
   "outputs": [
    {
     "name": "stdout",
     "output_type": "stream",
     "text": [
      "------------------- io_folder/ghz_yyx_meas\n",
      "|   |   H   \n",
      "|   H   |   \n",
      "X   |   |   \n",
      "X---+---@   \n",
      "X---@   |   \n",
      "|   |   H   \n",
      "|   H   |   \n",
      "H   |   |   \n",
      "|   |   Rz  \n",
      "|   |   H   \n",
      "|   Rz  |   \n",
      "|   H   |   \n",
      "H   |   |   \n",
      "\n",
      "Number of lines in file = 13\n",
      "\n",
      "Number of Elem. Ops = 13\n",
      "\n",
      "final state vector\n",
      "(zero bit first in state tuple)\n",
      "(0, 0, 0) (-9.10939765373e-35+0.5j)\n",
      "(0, 1, 1) (2.52852606327e-33+0.5j)\n",
      "(1, 0, 1) (-9.10939765373e-35+0.5j)\n",
      "(1, 1, 0) (2.52852606327e-33+0.5j)\n",
      "total probability of final state vector (=one if no measurements)= 1.0\n",
      "dictionary with key=qubit, value=final (P(0), P(1))\n",
      "{0: (0.5, 0.5), 1: (0.5, 0.5), 2: (0.5, 0.5)}\n",
      "Prob(bit0=i, bit1=j, bit2=k) for i,j,k,=0,1:\n",
      "[[[  2.50000000e-01   7.00507475e-33]\n",
      "  [  6.90143623e-33   2.50000000e-01]]\n",
      "\n",
      " [[  7.00507475e-33   2.50000000e-01]\n",
      "  [  2.50000000e-01   6.90143623e-33]]]\n",
      "mean= 1.0\n"
     ]
    }
   ],
   "source": [
    "# sigy(0)sigy(1)sigx(2) measurement\n",
    "file_prefix = 'io_folder/ghz_yyx_meas'\n",
    "mean_yyx = write_ghz_plus(file_prefix, ghz_only=False, meas=[2, 2, 1])\n"
   ]
  },
  {
   "cell_type": "code",
   "execution_count": 5,
   "metadata": {
    "collapsed": false
   },
   "outputs": [
    {
     "name": "stdout",
     "output_type": "stream",
     "text": [
      "------------------- io_folder/ghz_yxy_meas\n",
      "|   |   H   \n",
      "|   H   |   \n",
      "X   |   |   \n",
      "X---+---@   \n",
      "X---@   |   \n",
      "|   |   H   \n",
      "|   H   |   \n",
      "H   |   |   \n",
      "|   |   Rz  \n",
      "|   |   H   \n",
      "|   H   |   \n",
      "Rz  |   |   \n",
      "H   |   |   \n",
      "\n",
      "Number of lines in file = 13\n",
      "\n",
      "Number of Elem. Ops = 13\n",
      "\n",
      "final state vector\n",
      "(zero bit first in state tuple)\n",
      "(0, 0, 0) (1.96261557335e-17+0.5j)\n",
      "(0, 1, 1) 0.5j\n",
      "(1, 0, 1) 0.5j\n",
      "(1, 1, 0) (1.96261557335e-17+0.5j)\n",
      "total probability of final state vector (=one if no measurements)= 1.0\n",
      "dictionary with key=qubit, value=final (P(0), P(1))\n",
      "{0: (0.5, 0.5), 1: (0.5, 0.5), 2: (0.49999999999999994, 0.5)}\n",
      "Prob(bit0=i, bit1=j, bit2=k) for i,j,k,=0,1:\n",
      "[[[  2.50000000e-01   4.67780938e-33]\n",
      "  [  6.18278669e-33   2.50000000e-01]]\n",
      "\n",
      " [[  6.18278669e-33   2.50000000e-01]\n",
      "  [  2.50000000e-01   4.67780938e-33]]]\n",
      "mean= 1.0\n"
     ]
    }
   ],
   "source": [
    "# sigy(0)sigx(1)sigy(2) measurement\n",
    "file_prefix = 'io_folder/ghz_yxy_meas'\n",
    "mean_yxy = write_ghz_plus(file_prefix, ghz_only=False, meas=[2, 1, 2])"
   ]
  },
  {
   "cell_type": "code",
   "execution_count": 6,
   "metadata": {
    "collapsed": false
   },
   "outputs": [
    {
     "name": "stdout",
     "output_type": "stream",
     "text": [
      "------------------- io_folder/ghz_xyy_meas\n",
      "|   |   H   \n",
      "|   H   |   \n",
      "X   |   |   \n",
      "X---+---@   \n",
      "X---@   |   \n",
      "|   |   H   \n",
      "|   H   |   \n",
      "H   |   |   \n",
      "|   |   H   \n",
      "|   Rz  |   \n",
      "|   H   |   \n",
      "Rz  |   |   \n",
      "H   |   |   \n",
      "\n",
      "Number of lines in file = 13\n",
      "\n",
      "Number of Elem. Ops = 13\n",
      "\n",
      "final state vector\n",
      "(zero bit first in state tuple)\n",
      "(0, 0, 0) (1.96261557335e-17+0.5j)\n",
      "(0, 1, 1) 0.5j\n",
      "(1, 0, 1) 0.5j\n",
      "(1, 1, 0) (1.96261557335e-17+0.5j)\n",
      "total probability of final state vector (=one if no measurements)= 1.0\n",
      "dictionary with key=qubit, value=final (P(0), P(1))\n",
      "{0: (0.5, 0.5), 1: (0.5, 0.5), 2: (0.49999999999999994, 0.5)}\n",
      "Prob(bit0=i, bit1=j, bit2=k) for i,j,k,=0,1:\n",
      "[[[  2.50000000e-01   4.67780938e-33]\n",
      "  [  6.18278669e-33   2.50000000e-01]]\n",
      "\n",
      " [[  6.18278669e-33   2.50000000e-01]\n",
      "  [  2.50000000e-01   4.67780938e-33]]]\n",
      "mean= 1.0\n"
     ]
    }
   ],
   "source": [
    "# sigx(0)sigy(1)sigy(2) measurement\n",
    "file_prefix = 'io_folder/ghz_xyy_meas'\n",
    "mean_xyy = write_ghz_plus(file_prefix, ghz_only=False, meas=[1, 2, 2])"
   ]
  },
  {
   "cell_type": "code",
   "execution_count": 7,
   "metadata": {
    "collapsed": false
   },
   "outputs": [
    {
     "name": "stdout",
     "output_type": "stream",
     "text": [
      "------------------- io_folder/ghz_xxx_meas\n",
      "|   |   H   \n",
      "|   H   |   \n",
      "X   |   |   \n",
      "X---+---@   \n",
      "X---@   |   \n",
      "|   |   H   \n",
      "|   H   |   \n",
      "H   |   |   \n",
      "|   |   H   \n",
      "|   H   |   \n",
      "H   |   |   \n",
      "\n",
      "Number of lines in file = 11\n",
      "\n",
      "Number of Elem. Ops = 11\n",
      "\n",
      "final state vector\n",
      "(zero bit first in state tuple)\n",
      "(0, 0, 1) (0.5+0j)\n",
      "(0, 1, 0) (0.5+0j)\n",
      "(1, 0, 0) (0.5+0j)\n",
      "(1, 1, 1) (0.5+0j)\n",
      "total probability of final state vector (=one if no measurements)= 1.0\n",
      "dictionary with key=qubit, value=final (P(0), P(1))\n",
      "{0: (0.5, 0.5), 1: (0.5, 0.5), 2: (0.5, 0.5)}\n",
      "Prob(bit0=i, bit1=j, bit2=k) for i,j,k,=0,1:\n",
      "[[[  1.98108637e-35   2.50000000e-01]\n",
      "  [  2.50000000e-01   1.98108637e-35]]\n",
      "\n",
      " [[  2.50000000e-01   1.98108637e-35]\n",
      "  [  1.98108637e-35   2.50000000e-01]]]\n",
      "mean= -1.0\n"
     ]
    }
   ],
   "source": [
    "# sigx(0)sigx(1)sigx(2) measurement\n",
    "file_prefix = 'io_folder/ghz_xxx_meas'\n",
    "mean_xxx = write_ghz_plus(file_prefix, ghz_only=False, meas=[1, 1, 1])"
   ]
  },
  {
   "cell_type": "markdown",
   "metadata": {},
   "source": [
    "Let\n",
    "\n",
    "$mean\\_abc = \\langle\\psi| \\sigma_A(0) \\sigma_B(1)\\sigma_C(2)|\\psi\\rangle$\n",
    "\n",
    "where\n",
    "\n",
    "$|\\psi\\rangle = \\frac{1}{\\sqrt{2}}(|000\\rangle + |111\\rangle)$\n",
    "\n",
    "We expect\n",
    "\n",
    "$mean\\_yyx = mean\\_yxy = mean\\_xyy = 1$\n",
    "\n",
    "and \n",
    "\n",
    "$mean\\_xxx=-1$.\n",
    "\n",
    "This could never happen classically."
   ]
  },
  {
   "cell_type": "code",
   "execution_count": 8,
   "metadata": {
    "collapsed": false
   },
   "outputs": [
    {
     "name": "stdout",
     "output_type": "stream",
     "text": [
      "-----------------------\n",
      "mean_yyx = 1.0\n",
      "mean_yxy = 1.0\n",
      "mean_xyy = 1.0\n",
      "mean_xxx = -1.0\n"
     ]
    }
   ],
   "source": [
    "print('-----------------------')\n",
    "print('mean_yyx =', mean_yyx)\n",
    "print('mean_yxy =', mean_yxy)\n",
    "print('mean_xyy =', mean_xyy)\n",
    "print('mean_xxx =', mean_xxx)"
   ]
  },
  {
   "cell_type": "code",
   "execution_count": null,
   "metadata": {
    "collapsed": true
   },
   "outputs": [],
   "source": []
  }
 ],
 "metadata": {
  "kernelspec": {
   "display_name": "Anaconda (Python 3)",
   "language": "python",
   "name": "anaconda3"
  },
  "language_info": {
   "codemirror_mode": {
    "name": "ipython",
    "version": 3
   },
   "file_extension": ".py",
   "mimetype": "text/x-python",
   "name": "python",
   "nbconvert_exporter": "python",
   "pygments_lexer": "ipython3",
   "version": "3.5.2"
  }
 },
 "nbformat": 4,
 "nbformat_minor": 0
}
